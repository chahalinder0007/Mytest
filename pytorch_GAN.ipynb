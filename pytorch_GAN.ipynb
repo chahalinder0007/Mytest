{
  "nbformat": 4,
  "nbformat_minor": 0,
  "metadata": {
    "colab": {
      "name": "pytorch GAN.ipynb",
      "version": "0.3.2",
      "provenance": [],
      "collapsed_sections": [],
      "include_colab_link": true
    },
    "language_info": {
      "codemirror_mode": {
        "name": "ipython",
        "version": 3
      },
      "file_extension": ".py",
      "mimetype": "text/x-python",
      "name": "python",
      "nbconvert_exporter": "python",
      "pygments_lexer": "ipython3",
      "version": "3.6.7"
    },
    "kernelspec": {
      "name": "python3",
      "display_name": "Python 3"
    },
    "accelerator": "GPU"
  },
  "cells": [
    {
      "cell_type": "markdown",
      "metadata": {
        "id": "view-in-github",
        "colab_type": "text"
      },
      "source": [
        "<a href=\"https://colab.research.google.com/github/chahalinder0007/Pytorch_GAN/blob/master/pytorch_GAN.ipynb\" target=\"_parent\"><img src=\"https://colab.research.google.com/assets/colab-badge.svg\" alt=\"Open In Colab\"/></a>"
      ]
    },
    {
      "cell_type": "code",
      "metadata": {
        "id": "G6poCfjciTx-",
        "colab_type": "code",
        "outputId": "bd5713e4-1d2b-4eb2-efed-910f4ba2139c",
        "colab": {
          "base_uri": "https://localhost:8080/",
          "height": 163
        }
      },
      "source": [
        "#Cell-1\n",
        "\n",
        "\n",
        "#its a repo to just monitor loss function link will be displayer in cell-3\n",
        "!pip install lera"
      ],
      "execution_count": 0,
      "outputs": [
        {
          "output_type": "stream",
          "text": [
            "Requirement already satisfied: lera in /usr/local/lib/python3.6/dist-packages (0.2.3)\n",
            "Requirement already satisfied: numpy in /usr/local/lib/python3.6/dist-packages (from lera) (1.16.4)\n",
            "Requirement already satisfied: requests in /usr/local/lib/python3.6/dist-packages (from lera) (2.21.0)\n",
            "Requirement already satisfied: pillow in /usr/local/lib/python3.6/dist-packages (from lera) (4.3.0)\n",
            "Requirement already satisfied: certifi>=2017.4.17 in /usr/local/lib/python3.6/dist-packages (from requests->lera) (2019.6.16)\n",
            "Requirement already satisfied: urllib3<1.25,>=1.21.1 in /usr/local/lib/python3.6/dist-packages (from requests->lera) (1.24.3)\n",
            "Requirement already satisfied: chardet<3.1.0,>=3.0.2 in /usr/local/lib/python3.6/dist-packages (from requests->lera) (3.0.4)\n",
            "Requirement already satisfied: idna<2.9,>=2.5 in /usr/local/lib/python3.6/dist-packages (from requests->lera) (2.8)\n",
            "Requirement already satisfied: olefile in /usr/local/lib/python3.6/dist-packages (from pillow->lera) (0.46)\n"
          ],
          "name": "stdout"
        }
      ]
    },
    {
      "cell_type": "code",
      "metadata": {
        "id": "lwgkimB0E1ag",
        "colab_type": "code",
        "colab": {}
      },
      "source": [
        "#Cell-2\n",
        "\n",
        "\n",
        "\n",
        "import torch\n",
        "import torchvision.datasets as data\n",
        "import numpy as np\n",
        "import lera"
      ],
      "execution_count": 0,
      "outputs": []
    },
    {
      "cell_type": "markdown",
      "metadata": {
        "id": "Ywuxc3l8d33X",
        "colab_type": "text"
      },
      "source": [
        "#you can choose to ignore the following cell it is merely setting up lera liabrary with the hyper parameters"
      ]
    },
    {
      "cell_type": "code",
      "metadata": {
        "id": "TpWnP7g2dYZG",
        "colab_type": "code",
        "colab": {}
      },
      "source": [
        ""
      ],
      "execution_count": 0,
      "outputs": []
    },
    {
      "cell_type": "code",
      "metadata": {
        "id": "n0haN5mkO8zR",
        "colab_type": "code",
        "outputId": "1f8cb980-873f-4eba-856c-ef7580c1ac61",
        "colab": {
          "base_uri": "https://localhost:8080/",
          "height": 115
        }
      },
      "source": [
        "#Cell-3\n",
        "\n",
        "\n",
        "lera.log_hyperparams({\n",
        "  'title': 'GAN ',\n",
        "  'batch_size': 1,\n",
        "  'epochs': 15000,\n",
        "  'optimizer': 'SGD',\n",
        "  'lr': 0.00001,\n",
        "  \n",
        "  })"
      ],
      "execution_count": 0,
      "outputs": [
        {
          "output_type": "stream",
          "text": [
            "lera: open https://lera.ai/m/e1fe69 to view the progress\n"
          ],
          "name": "stdout"
        },
        {
          "output_type": "execute_result",
          "data": {
            "text/plain": [
              "{'batch_size': 1,\n",
              " 'epochs': 15000,\n",
              " 'lr': 1e-05,\n",
              " 'optimizer': 'SGD',\n",
              " 'title': 'GAN '}"
            ]
          },
          "metadata": {
            "tags": []
          },
          "execution_count": 3
        }
      ]
    },
    {
      "cell_type": "code",
      "metadata": {
        "id": "A-2QO8tIE1ak",
        "colab_type": "code",
        "outputId": "1aa1ecfc-94ab-49f3-939e-09a121e63737",
        "colab": {
          "base_uri": "https://localhost:8080/",
          "height": 147
        }
      },
      "source": [
        "#downloading trainining data and storing it in ./mnist\n",
        "down_train_data=data.MNIST(root=\"./mnist/\",download=True)\n",
        "#entire thing just gets the index as in the required class.\n",
        "\n",
        "\n",
        "idx=down_train_data.targets==3\n",
        "down_train_data.targets=down_train_data.targets[idx]\n",
        "down_train_data.data=down_train_data.data[idx]\n",
        "\n",
        "\n",
        "X_train=down_train_data.train_data.reshape(-1,784).to(torch.float32).cuda()\n",
        "Y_train=down_train_data.train_labels.reshape(-1,1).to(torch.float32)\n",
        "#retreiving the test dataset\n",
        "down_test_data=data.MNIST(root=\"./mnist/\",download=True,train=False)\n",
        "X_test=down_test_data.test_data.reshape(-1,784)\n",
        "Y_test=down_test_data.test_labels.reshape(-1,1)"
      ],
      "execution_count": 0,
      "outputs": [
        {
          "output_type": "stream",
          "text": [
            "/usr/local/lib/python3.6/dist-packages/torchvision/datasets/mnist.py:53: UserWarning: train_data has been renamed data\n",
            "  warnings.warn(\"train_data has been renamed data\")\n",
            "/usr/local/lib/python3.6/dist-packages/torchvision/datasets/mnist.py:43: UserWarning: train_labels has been renamed targets\n",
            "  warnings.warn(\"train_labels has been renamed targets\")\n",
            "/usr/local/lib/python3.6/dist-packages/torchvision/datasets/mnist.py:58: UserWarning: test_data has been renamed data\n",
            "  warnings.warn(\"test_data has been renamed data\")\n",
            "/usr/local/lib/python3.6/dist-packages/torchvision/datasets/mnist.py:48: UserWarning: test_labels has been renamed targets\n",
            "  warnings.warn(\"test_labels has been renamed targets\")\n"
          ],
          "name": "stderr"
        }
      ]
    },
    {
      "cell_type": "code",
      "metadata": {
        "id": "3Mj50kZBE1at",
        "colab_type": "code",
        "colab": {}
      },
      "source": [
        "class net(torch.nn.Module):\n",
        "    def __init__(self,D_in,D_out):\n",
        "        super(net,self).__init__()\n",
        "        self.gen1=torch.nn.Linear(32,256) #only thing you need to change for the dimension of noise\n",
        "        self.linear2=torch.nn.Linear(256,256)\n",
        "        self.gen_out=torch.nn.Linear(256,D_in)\n",
        "        \n",
        "    def forward(self,x):\n",
        "        indata=self.gen1(x)\n",
        "        indata=torch.relu(indata)\n",
        "\n",
        "        indata2=self.linear2(indata)\n",
        "        indata2=torch.relu(indata2)\n",
        "\n",
        "        out=self.gen_out(indata)\n",
        "        out=torch.tanh(out)\n",
        "\n",
        "        return out\n",
        "\n",
        "gen=net(784,1)\n",
        "#for training\n",
        "\n",
        "\n",
        "optimizer_gen=torch.optim.Adam(gen.parameters(),lr=0.0001)\n",
        "class bet(torch.nn.Module):\n",
        "    def __init__(self,D_in,D_out):\n",
        "        super(bet,self).__init__()\n",
        "\n",
        "        self.disc1=torch.nn.Linear(D_in,256)\n",
        "        self.disc2=torch.nn.Linear(256,256)\n",
        "        self.disc_out= torch.nn.Linear(256,D_out)\n",
        "    def forward(self,x):\n",
        "        indata=self.disc1(x)\n",
        "        indata=torch.relu(indata)\n",
        "        #indata=torch.tanh(indata)\n",
        "\n",
        "        indata2=self.disc2(indata)\n",
        "        indata2=torch.relu(indata2)\n",
        "\n",
        "        out=self.disc_out(indata)\n",
        "        out=torch.sigmoid(out)\n",
        "\n",
        "        return out\n",
        "\n",
        "disc=bet(784,1)\n",
        "#for training\n",
        "criterion = torch.nn.BCELoss()\n",
        "optimizer_disc=torch.optim.Adam(disc.parameters(),lr=0.0001)"
      ],
      "execution_count": 0,
      "outputs": []
    },
    {
      "cell_type": "code",
      "metadata": {
        "id": "EEaDT-NMDVPK",
        "colab_type": "code",
        "colab": {}
      },
      "source": [
        "gen=gen.cuda()\n",
        "disc=disc.cuda()"
      ],
      "execution_count": 0,
      "outputs": []
    },
    {
      "cell_type": "code",
      "metadata": {
        "id": "mEfWhkaQOWQM",
        "colab_type": "code",
        "colab": {}
      },
      "source": [
        "def loss_disc(dis_real_image,dis_fake_image):\n",
        "  #to_r=-torch.mean(torch.log(dis_real_image)+torch.log(1.0-dis_fake_image))\n",
        "  #print(dis_fake_image,\":::::\",dis_real_image)\n",
        "  to_r=torch.mean(((1.0-dis_real_image))**2 + ((dis_fake_image))**2)\n",
        "  return to_r\n",
        "\n",
        "def loss_gen_l(dis_fake_image):\n",
        "  to_r=torch.mean((dis_fake_image))**2\n",
        "  #to_r=-torch.mean(torch.log(dis_fake_image))\n",
        "  return to_r"
      ],
      "execution_count": 0,
      "outputs": []
    },
    {
      "cell_type": "code",
      "metadata": {
        "id": "bJSbxT39v70u",
        "colab_type": "code",
        "outputId": "d3446fd1-21fa-40b0-8ed0-2f789b3c3e49",
        "colab": {
          "base_uri": "https://localhost:8080/",
          "height": 33
        }
      },
      "source": [
        "X_train.size()"
      ],
      "execution_count": 0,
      "outputs": [
        {
          "output_type": "execute_result",
          "data": {
            "text/plain": [
              "torch.Size([6131, 784])"
            ]
          },
          "metadata": {
            "tags": []
          },
          "execution_count": 8
        }
      ]
    },
    {
      "cell_type": "code",
      "metadata": {
        "id": "N92CJFSYDIE5",
        "colab_type": "code",
        "outputId": "db854dcf-6990-46b0-8f68-d3ca82d4fede",
        "colab": {
          "base_uri": "https://localhost:8080/",
          "height": 50
        }
      },
      "source": [
        "X_train=X_train.resize(1,X_train.size()[0],784)"
      ],
      "execution_count": 0,
      "outputs": [
        {
          "output_type": "stream",
          "text": [
            "/usr/local/lib/python3.6/dist-packages/torch/tensor.py:339: UserWarning: non-inplace resize is deprecated\n",
            "  warnings.warn(\"non-inplace resize is deprecated\")\n"
          ],
          "name": "stderr"
        }
      ]
    },
    {
      "cell_type": "code",
      "metadata": {
        "id": "Bs4wgFrTE1a0",
        "colab_type": "code",
        "colab": {}
      },
      "source": [
        "for i in range(500):\n",
        "    for j in range(X_train.size()[0]):\n",
        "        \n",
        "        feeder=torch.randn((X_train.size()[1],32)).cuda()\n",
        "         \n",
        "        fake_image=gen(feeder)\n",
        "        dis_real_image=disc(X_train[j])\n",
        "        #print(dis_real_image)\n",
        "        dis_fake_image=disc(fake_image)\n",
        "                                                       #noise                                     #noise                             #noise\n",
        "        total_loss_disc=criterion(dis_real_image,((0-0.03)*torch.rand(X_train.size()[1],1)+0.03).cuda())+criterion(dis_fake_image,((0.974-1.0)*torch.rand(X_train.size()[1],1)+1).cuda())#loss_disc(dis_real_image=dis_real_image,dis_fake_image=dis_fake_image)\n",
        "\n",
        "        lera.log(\"Disc_loss\",total_loss_disc.item())\n",
        "        #if j%9000 == 0:\n",
        "        #    print(j)\n",
        "        #    print(\"Discriminator loss: \",total_loss_disc.item())\n",
        "            \n",
        "        optimizer_disc.zero_grad()\n",
        "        total_loss_disc.backward()\n",
        "        \n",
        "        optimizer_disc.step()\n",
        "\n",
        "        feeder=torch.randn((X_train.size()[1],32)).cuda()\n",
        "        fake_image=gen(feeder)\n",
        "        dis_fake_image=disc(fake_image)\n",
        "\n",
        "\n",
        "        loss_gen=criterion(dis_fake_image,torch.zeros(X_train.size()[1]).cuda())#loss_gen_l(dis_fake_image)\n",
        "        lera.log(\"Gen_loss\",loss_gen.item())\n",
        "        #if j%9000==0:\n",
        "        #    print(\"Generator loss (although its not really):\",loss_gen.item())\n",
        "        optimizer_gen.zero_grad()\n",
        "        loss_gen.backward()\n",
        "        optimizer_gen.step()\n",
        "    \n",
        "\n",
        "    \n",
        "    print(\"itter::\",i)\n",
        "\n",
        "       "
      ],
      "execution_count": 0,
      "outputs": []
    },
    {
      "cell_type": "code",
      "metadata": {
        "id": "VZU-mfqgpkWC",
        "colab_type": "code",
        "colab": {}
      },
      "source": [
        "import matplotlib.pyplot as plt\n",
        "import cv2"
      ],
      "execution_count": 0,
      "outputs": []
    },
    {
      "cell_type": "code",
      "metadata": {
        "id": "F_8V7Sz9E1bG",
        "colab_type": "code",
        "outputId": "d80f8f10-5896-40ad-e218-685830fab4e2",
        "colab": {
          "base_uri": "https://localhost:8080/",
          "height": 286
        }
      },
      "source": [
        "feeder=torch.randn((8,32)).cuda()\n",
        "kk=gen(feeder).detach().cpu()\n",
        "plt.imshow(kk[3].reshape(28,28))"
      ],
      "execution_count": 0,
      "outputs": [
        {
          "output_type": "execute_result",
          "data": {
            "text/plain": [
              "<matplotlib.image.AxesImage at 0x7f01c45b1da0>"
            ]
          },
          "metadata": {
            "tags": []
          },
          "execution_count": 25
        },
        {
          "output_type": "display_data",
          "data": {
            "image/png": "[encoded data removed]",
            "text/plain": [
              "<Figure size 432x288 with 1 Axes>"
            ]
          },
          "metadata": {
            "tags": []
          }
        }
      ]
    },
    {
      "cell_type": "code",
      "metadata": {
        "id": "YkJZ6g0ZxcPS",
        "colab_type": "code",
        "colab": {}
      },
      "source": [
        ""
      ],
      "execution_count": 0,
      "outputs": []
    }
  ]
}