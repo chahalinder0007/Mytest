{
  "nbformat": 4,
  "nbformat_minor": 0,
  "metadata": {
    "colab": {
      "name": "pytorch GAN.ipynb",
      "version": "0.3.2",
      "provenance": [],
      "collapsed_sections": [],
      "include_colab_link": true
    },
    "language_info": {
      "codemirror_mode": {
        "name": "ipython",
        "version": 3
      },
      "file_extension": ".py",
      "mimetype": "text/x-python",
      "name": "python",
      "nbconvert_exporter": "python",
      "pygments_lexer": "ipython3",
      "version": "3.6.7"
    },
    "kernelspec": {
      "name": "python3",
      "display_name": "Python 3"
    },
    "accelerator": "GPU"
  },
  "cells": [
    {
      "cell_type": "markdown",
      "metadata": {
        "id": "view-in-github",
        "colab_type": "text"
      },
      "source": [
        "<a href=\"https://colab.research.google.com/github/chahalinder0007/Pytorch_GAN/blob/master/pytorch_GAN.ipynb\" target=\"_parent\"><img src=\"https://colab.research.google.com/assets/colab-badge.svg\" alt=\"Open In Colab\"/></a>"
      ]
    },
    {
      "cell_type": "code",
      "metadata": {
        "id": "G6poCfjciTx-",
        "colab_type": "code",
        "outputId": "063d8372-cee6-4865-bf87-683652dc9f1b",
        "colab": {
          "base_uri": "https://localhost:8080/",
          "height": 277
        }
      },
      "source": [
        "#Cell-1\n",
        "\n",
        "\n",
        "#its a repo to just monitor loss function link will be displayer in cell-3\n",
        "!pip install lera"
      ],
      "execution_count": 1,
      "outputs": [
        {
          "output_type": "stream",
          "text": [
            "Collecting lera\n",
            "  Downloading https://files.pythonhosted.org/packages/bc/2d/54f96d098d190e038a5a32bbbdef40cb3c3783f67b16f0fd4a792e95e7e9/lera-0.2.3.tar.gz\n",
            "Requirement already satisfied: requests in /usr/local/lib/python3.6/dist-packages (from lera) (2.21.0)\n",
            "Requirement already satisfied: numpy in /usr/local/lib/python3.6/dist-packages (from lera) (1.16.4)\n",
            "Requirement already satisfied: pillow in /usr/local/lib/python3.6/dist-packages (from lera) (4.3.0)\n",
            "Requirement already satisfied: urllib3<1.25,>=1.21.1 in /usr/local/lib/python3.6/dist-packages (from requests->lera) (1.24.3)\n",
            "Requirement already satisfied: chardet<3.1.0,>=3.0.2 in /usr/local/lib/python3.6/dist-packages (from requests->lera) (3.0.4)\n",
            "Requirement already satisfied: certifi>=2017.4.17 in /usr/local/lib/python3.6/dist-packages (from requests->lera) (2019.6.16)\n",
            "Requirement already satisfied: idna<2.9,>=2.5 in /usr/local/lib/python3.6/dist-packages (from requests->lera) (2.8)\n",
            "Requirement already satisfied: olefile in /usr/local/lib/python3.6/dist-packages (from pillow->lera) (0.46)\n",
            "Building wheels for collected packages: lera\n",
            "  Building wheel for lera (setup.py) ... \u001b[?25l\u001b[?25hdone\n",
            "  Stored in directory: /root/.cache/pip/wheels/4b/04/7f/b9fe53d3ffbfa00ac6af928dfe509e0be914ffce8e86df928a\n",
            "Successfully built lera\n",
            "Installing collected packages: lera\n",
            "Successfully installed lera-0.2.3\n"
          ],
          "name": "stdout"
        }
      ]
    },
    {
      "cell_type": "code",
      "metadata": {
        "id": "lwgkimB0E1ag",
        "colab_type": "code",
        "colab": {}
      },
      "source": [
        "#Cell-2\n",
        "\n",
        "\n",
        "\n",
        "import torch\n",
        "import torchvision.datasets as data\n",
        "import numpy as np\n",
        "import lera"
      ],
      "execution_count": 0,
      "outputs": []
    },
    {
      "cell_type": "markdown",
      "metadata": {
        "id": "Ywuxc3l8d33X",
        "colab_type": "text"
      },
      "source": [
        "#you can choose to ignore the following cell it is merely setting up lera liabrary with the hyper parameters. \n",
        "to know more about the liabrary refer [this link](https://lera.ai)\n",
        "\n",
        "\n"
      ]
    },
    {
      "cell_type": "code",
      "metadata": {
        "id": "n0haN5mkO8zR",
        "colab_type": "code",
        "outputId": "1f2b4cca-2fde-40f1-d21f-966c75bf686d",
        "colab": {
          "base_uri": "https://localhost:8080/",
          "height": 115
        }
      },
      "source": [
        "#Cell-3\n",
        "\n",
        "\n",
        "lera.log_hyperparams({\n",
        "  'title': 'GAN ',\n",
        "  'batch_size': 1,\n",
        "  'epochs': 15000,\n",
        "  'optimizer': 'SGD',\n",
        "  'lr': 0.00001,\n",
        "  \n",
        "  })"
      ],
      "execution_count": 3,
      "outputs": [
        {
          "output_type": "stream",
          "text": [
            "lera: open https://lera.ai/m/f97b36 to view the progress\n"
          ],
          "name": "stdout"
        },
        {
          "output_type": "execute_result",
          "data": {
            "text/plain": [
              "{'batch_size': 1,\n",
              " 'epochs': 15000,\n",
              " 'lr': 1e-05,\n",
              " 'optimizer': 'SGD',\n",
              " 'title': 'GAN '}"
            ]
          },
          "metadata": {
            "tags": []
          },
          "execution_count": 3
        }
      ]
    },
    {
      "cell_type": "markdown",
      "metadata": {
        "id": "2zV0o16o-KjT",
        "colab_type": "text"
      },
      "source": [
        "Here we will only be working with class 3 so we are merely separating the data for class 3 in **line 8**"
      ]
    },
    {
      "cell_type": "code",
      "metadata": {
        "id": "A-2QO8tIE1ak",
        "colab_type": "code",
        "outputId": "337018c3-b029-40b2-acc2-bc63759531d2",
        "colab": {
          "base_uri": "https://localhost:8080/",
          "height": 375
        }
      },
      "source": [
        "#cell-4\n",
        "#downloading trainining data and storing it in ./mnist\n",
        "down_train_data=data.MNIST(root=\"./mnist/\",download=True)\n",
        "\n",
        "\n",
        "#entire thing just gets the index as in the required class.\n",
        "\n",
        "idx=down_train_data.targets==3\n",
        "down_train_data.targets=down_train_data.targets[idx]\n",
        "down_train_data.data=down_train_data.data[idx]\n",
        "\n",
        "\n",
        "X_train=down_train_data.train_data.reshape(-1,784).to(torch.float32).cuda()\n",
        "Y_train=down_train_data.train_labels.reshape(-1,1).to(torch.float32)\n",
        "#retreiving the test dataset\n",
        "down_test_data=data.MNIST(root=\"./mnist/\",download=True,train=False)\n",
        "X_test=down_test_data.test_data.reshape(-1,784)\n",
        "Y_test=down_test_data.test_labels.reshape(-1,1)"
      ],
      "execution_count": 4,
      "outputs": [
        {
          "output_type": "stream",
          "text": [
            "  0%|          | 0/9912422 [00:00<?, ?it/s]"
          ],
          "name": "stderr"
        },
        {
          "output_type": "stream",
          "text": [
            "Downloading http://yann.lecun.com/exdb/mnist/train-images-idx3-ubyte.gz to ./mnist/MNIST/raw/train-images-idx3-ubyte.gz\n"
          ],
          "name": "stdout"
        },
        {
          "output_type": "stream",
          "text": [
            "9920512it [00:00, 26495464.44it/s]                            \n"
          ],
          "name": "stderr"
        },
        {
          "output_type": "stream",
          "text": [
            "Extracting ./mnist/MNIST/raw/train-images-idx3-ubyte.gz\n"
          ],
          "name": "stdout"
        },
        {
          "output_type": "stream",
          "text": [
            "32768it [00:00, 431828.60it/s]\n",
            "  1%|          | 16384/1648877 [00:00<00:11, 144407.18it/s]"
          ],
          "name": "stderr"
        },
        {
          "output_type": "stream",
          "text": [
            "Downloading http://yann.lecun.com/exdb/mnist/train-labels-idx1-ubyte.gz to ./mnist/MNIST/raw/train-labels-idx1-ubyte.gz\n",
            "Extracting ./mnist/MNIST/raw/train-labels-idx1-ubyte.gz\n",
            "Downloading http://yann.lecun.com/exdb/mnist/t10k-images-idx3-ubyte.gz to ./mnist/MNIST/raw/t10k-images-idx3-ubyte.gz\n"
          ],
          "name": "stdout"
        },
        {
          "output_type": "stream",
          "text": [
            "1654784it [00:00, 7135707.44it/s]                           \n",
            "8192it [00:00, 174857.83it/s]\n"
          ],
          "name": "stderr"
        },
        {
          "output_type": "stream",
          "text": [
            "Extracting ./mnist/MNIST/raw/t10k-images-idx3-ubyte.gz\n",
            "Downloading http://yann.lecun.com/exdb/mnist/t10k-labels-idx1-ubyte.gz to ./mnist/MNIST/raw/t10k-labels-idx1-ubyte.gz\n",
            "Extracting ./mnist/MNIST/raw/t10k-labels-idx1-ubyte.gz\n",
            "Processing...\n"
          ],
          "name": "stdout"
        },
        {
          "output_type": "stream",
          "text": [
            "/usr/local/lib/python3.6/dist-packages/torchvision/datasets/mnist.py:53: UserWarning: train_data has been renamed data\n",
            "  warnings.warn(\"train_data has been renamed data\")\n"
          ],
          "name": "stderr"
        },
        {
          "output_type": "stream",
          "text": [
            "Done!\n"
          ],
          "name": "stdout"
        },
        {
          "output_type": "stream",
          "text": [
            "/usr/local/lib/python3.6/dist-packages/torchvision/datasets/mnist.py:43: UserWarning: train_labels has been renamed targets\n",
            "  warnings.warn(\"train_labels has been renamed targets\")\n",
            "/usr/local/lib/python3.6/dist-packages/torchvision/datasets/mnist.py:58: UserWarning: test_data has been renamed data\n",
            "  warnings.warn(\"test_data has been renamed data\")\n",
            "/usr/local/lib/python3.6/dist-packages/torchvision/datasets/mnist.py:48: UserWarning: test_labels has been renamed targets\n",
            "  warnings.warn(\"test_labels has been renamed targets\")\n"
          ],
          "name": "stderr"
        }
      ]
    },
    {
      "cell_type": "markdown",
      "metadata": {
        "id": "c9vY1M3v-ldt",
        "colab_type": "text"
      },
      "source": [
        "# Here we have the actual model architecture A basic representation of the same is the following image:\n",
        "![alt text](https://sigmoidal.io/wp-content/uploads/2017/09/generator_and_discriminator1.png)"
      ]
    },
    {
      "cell_type": "code",
      "metadata": {
        "id": "3Mj50kZBE1at",
        "colab_type": "code",
        "colab": {}
      },
      "source": [
        "#Cell-5\n",
        "\n",
        "#this is the generator part defined here\n",
        "\n",
        "\n",
        "class net(torch.nn.Module):\n",
        "    def __init__(self,D_in,D_out):\n",
        "        super(net,self).__init__()\n",
        "        self.gen1=torch.nn.Linear(32,256) #only thing you need to change for the dimension of noise\n",
        "        self.linear2=torch.nn.Linear(256,256)\n",
        "        self.gen_out=torch.nn.Linear(256,D_in)\n",
        "        \n",
        "    def forward(self,x):\n",
        "        indata=self.gen1(x)\n",
        "        indata=torch.relu(indata)\n",
        "\n",
        "        indata2=self.linear2(indata)\n",
        "        indata2=torch.relu(indata2)\n",
        "\n",
        "        out=self.gen_out(indata)\n",
        "        out=torch.tanh(out)\n",
        "\n",
        "        return out\n",
        "\n",
        "      \n",
        "#upuntil now we created a class now we need an object to work with and the following line does the same\n",
        "gen=net(784,1)\n",
        "\n",
        "#two weights each are separately being trained in the back prop step so we need two optimizers with different model parameters name here as :: gen.parameters()\n",
        "optimizer_gen=torch.optim.Adam(gen.parameters(),lr=0.0001)\n",
        "\n",
        "\n",
        "\n",
        "class bet(torch.nn.Module):\n",
        "    def __init__(self,D_in,D_out):\n",
        "        super(bet,self).__init__()\n",
        "\n",
        "        self.disc1=torch.nn.Linear(D_in,256)\n",
        "        self.disc2=torch.nn.Linear(256,256)\n",
        "        self.disc_out= torch.nn.Linear(256,D_out)\n",
        "    def forward(self,x):\n",
        "        indata=self.disc1(x)\n",
        "        indata=torch.relu(indata)\n",
        "        #indata=torch.tanh(indata)\n",
        "\n",
        "        indata2=self.disc2(indata)\n",
        "        indata2=torch.relu(indata2)\n",
        "\n",
        "        out=self.disc_out(indata)\n",
        "        out=torch.sigmoid(out)\n",
        "\n",
        "        return out\n",
        "\n",
        "disc=bet(784,1)\n",
        "#for training we also need loss but we will define our custom loss for better understanding although we can use this as well\n",
        "criterion = torch.nn.BCELoss()\n",
        "optimizer_disc=torch.optim.Adam(disc.parameters(),lr=0.0001)"
      ],
      "execution_count": 0,
      "outputs": []
    },
    {
      "cell_type": "markdown",
      "metadata": {
        "id": "eP9xx39cAEgp",
        "colab_type": "text"
      },
      "source": [
        "**IF you are not familiar with the modular structure for pytorch deep network I will strongly recomend** : [using this link to get a basic idea](https://medium.com/dair-ai/a-simple-neural-network-from-scratch-with-pytorch-and-google-colab-c7f3830618e0)"
      ]
    },
    {
      "cell_type": "code",
      "metadata": {
        "id": "EEaDT-NMDVPK",
        "colab_type": "code",
        "colab": {}
      },
      "source": [
        "#Transfer the two modules to cuda or GPU\n",
        "gen=gen.cuda()\n",
        "disc=disc.cuda()"
      ],
      "execution_count": 0,
      "outputs": []
    },
    {
      "cell_type": "markdown",
      "metadata": {
        "id": "ElEqH4UYC4iC",
        "colab_type": "text"
      },
      "source": [
        "we are simple penalising the discriminator here if it calls the real image fake and fake image real. Now what does that mean.\n",
        "\n",
        "\n",
        "\n",
        "The generator will have two outputs one for the real data and one for the fake or generated data. these output will be any value ranging from 0 to 1(as in the last layer we have an activation function sigmoid).  Now if The discriminator says that the probability of real data being real is 0.65 or 65% we will penalise it or simply the loss for the real data part will be **1-0.65 = 35**.\n",
        "\n",
        "similarly it might say that the probability that the fake data is real is 0.25 so the loss for the fake part will become **0.25**\n",
        "\n",
        "Now from the formula it is clear that the total loss will be loss for the fake data and loss for the real data which will comeout to be **0.35 + 0.25 = 0.6**\n",
        "\n",
        "---\n",
        "\n"
      ]
    },
    {
      "cell_type": "code",
      "metadata": {
        "id": "mEfWhkaQOWQM",
        "colab_type": "code",
        "colab": {}
      },
      "source": [
        "def loss_disc(dis_real_image,dis_fake_image):\n",
        "  \n",
        "  to_r=torch.mean(((1.0-dis_real_image))**2 + ((dis_fake_image))**2)\n",
        "  return to_r\n",
        "\n",
        "def loss_gen_l(dis_fake_image):\n",
        "  to_r=torch.mean((dis_fake_image))**2\n",
        "  \n",
        "  return to_r"
      ],
      "execution_count": 0,
      "outputs": []
    },
    {
      "cell_type": "code",
      "metadata": {
        "id": "N92CJFSYDIE5",
        "colab_type": "code",
        "outputId": "294c66ea-bcb9-47e4-f38d-d3f01f1f446b",
        "colab": {
          "base_uri": "https://localhost:8080/",
          "height": 50
        }
      },
      "source": [
        "#we are merely resizing the tensor into the required shape such that it has one tensor in a batch\n",
        "X_train=X_train.resize(1,X_train.size()[0],784)"
      ],
      "execution_count": 8,
      "outputs": [
        {
          "output_type": "stream",
          "text": [
            "/usr/local/lib/python3.6/dist-packages/torch/tensor.py:339: UserWarning: non-inplace resize is deprecated\n",
            "  warnings.warn(\"non-inplace resize is deprecated\")\n"
          ],
          "name": "stderr"
        }
      ]
    },
    {
      "cell_type": "code",
      "metadata": {
        "id": "Bs4wgFrTE1a0",
        "colab_type": "code",
        "colab": {}
      },
      "source": [
        "for i in range(200):\n",
        "    for j in range(X_train.size()[0]):\n",
        "        #noise to the generator network\n",
        "        feeder=torch.randn((X_train.size()[1],32)).cuda()\n",
        "         \n",
        "        fake_image=gen(feeder)\n",
        "        dis_real_image=disc(X_train[j])\n",
        "        #print(dis_real_image)\n",
        "        dis_fake_image=disc(fake_image)\n",
        "                                                       #noise                                     #noise                             #noise\n",
        "        total_loss_disc=criterion(dis_real_image,((0-0.03)*torch.rand(X_train.size()[1],1)+0.03).cuda())+criterion(dis_fake_image,((0.974-1.0)*torch.rand(X_train.size()[1],1)+1).cuda())#loss_disc(dis_real_image=dis_real_image,dis_fake_image=dis_fake_image)\n",
        "\n",
        "        lera.log(\"Disc_loss\",total_loss_disc.item())\n",
        "\n",
        "            \n",
        "        optimizer_disc.zero_grad()\n",
        "        total_loss_disc.backward()\n",
        "        \n",
        "        optimizer_disc.step()\n",
        "\n",
        "        feeder=torch.randn((X_train.size()[1],32)).cuda()\n",
        "        fake_image=gen(feeder)\n",
        "        dis_fake_image=disc(fake_image)\n",
        "\n",
        "\n",
        "        loss_gen=criterion(dis_fake_image,torch.zeros(X_train.size()[1]).cuda())#loss_gen_l(dis_fake_image)\n",
        "        lera.log(\"Gen_loss\",loss_gen.item())\n",
        "\n",
        "        optimizer_gen.zero_grad()\n",
        "        loss_gen.backward()\n",
        "        optimizer_gen.step()\n",
        "    \n",
        "\n",
        "    \n",
        "    print(\"itter::\",i)\n",
        "\n",
        "       "
      ],
      "execution_count": 0,
      "outputs": []
    },
    {
      "cell_type": "code",
      "metadata": {
        "id": "VZU-mfqgpkWC",
        "colab_type": "code",
        "colab": {}
      },
      "source": [
        "import matplotlib.pyplot as plt\n",
        "import cv2"
      ],
      "execution_count": 0,
      "outputs": []
    },
    {
      "cell_type": "markdown",
      "metadata": {
        "id": "j1lcyfduE2te",
        "colab_type": "text"
      },
      "source": [
        "#IN the following cell we are merely doing the inference and looking at the results of our predictions. With a simplistic model and a very crude loss function as well as fewer training cycles"
      ]
    },
    {
      "cell_type": "code",
      "metadata": {
        "id": "F_8V7Sz9E1bG",
        "colab_type": "code",
        "outputId": "82c37261-67c8-4fc9-abd6-0e0d51ef3edc",
        "colab": {
          "base_uri": "https://localhost:8080/",
          "height": 455
        }
      },
      "source": [
        "feeder=torch.randn((8,32)).cuda()\n",
        "kk=gen(feeder).detach().cpu()\n",
        "fig=plt.figure(figsize=(15, 15))\n",
        "\n",
        "columns = 4\n",
        "rows = 5\n",
        "for i in range(8):\n",
        "    img = kk[i].reshape(28,28)\n",
        "    fig.add_subplot(rows, columns, i+1)\n",
        "\n",
        "\n",
        "    plt.imshow(img) \n",
        "\n",
        "plt.tight_layout()\n",
        "\n",
        "plt.show()"
      ],
      "execution_count": 31,
      "outputs": [
        {
          "output_type": "display_data",
          "data": {
            "image/png": "[encoded data removed]",
            "text/plain": [
              "<Figure size 1080x1080 with 8 Axes>"
            ]
          },
          "metadata": {
            "tags": []
          }
        }
      ]
    },
    {
      "cell_type": "markdown",
      "metadata": {
        "id": "JWDWPLv_JHl4",
        "colab_type": "text"
      },
      "source": [
        "#These are the results from a simple very very simple GAN and you can still see that it is able to get the outline of the the handwritten digit three.\n",
        "\n",
        "#***The following is what we feed the generator***"
      ]
    },
    {
      "cell_type": "code",
      "metadata": {
        "id": "1Ltoj6srFypD",
        "colab_type": "code",
        "colab": {
          "base_uri": "https://localhost:8080/",
          "height": 385
        },
        "outputId": "c2eaaeaf-37e8-4a6f-d2db-72265e82de7d"
      },
      "source": [
        "kk=feeder.detach().cpu()\n",
        "fig=plt.figure(figsize=(15, 15))\n",
        "\n",
        "columns = 4\n",
        "rows = 5\n",
        "for i in range(8):\n",
        "    img = kk[i].reshape(4,8)\n",
        "    fig.add_subplot(rows, columns, i+1)\n",
        "\n",
        "\n",
        "    plt.imshow(img) \n",
        "\n",
        "plt.tight_layout()\n",
        "\n",
        "plt.show()"
      ],
      "execution_count": 40,
      "outputs": [
        {
          "output_type": "display_data",
          "data": {
            "image/png": "[encoded data removed]",
            "text/plain": [
              "<Figure size 1080x1080 with 8 Axes>"
            ]
          },
          "metadata": {
            "tags": []
          }
        }
      ]
    }
  ]
}